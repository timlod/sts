{
 "cells": [
  {
   "cell_type": "code",
   "execution_count": 2,
   "metadata": {},
   "outputs": [],
   "source": [
    "import os\n",
    "from pathlib import Path\n",
    "import requests\n",
    "import tarfile\n",
    "from tqdm import tqdm\n",
    "import json\n",
    "import numpy as np\n",
    "import shutil\n",
    "import pandas as pd\n",
    "import librosa\n",
    "import librosa.display\n",
    "import sounddevice as sd\n",
    "sd.default.samplerate = 16000\n",
    "import torch\n",
    "from torch.utils import data\n",
    "import torchaudio as ta\n",
    "import matplotlib.pyplot as plt\n",
    "from sklearn.model_selection import train_test_split\n",
    "\n",
    "import scipy.fft as spfft\n",
    "librosa.set_fftlib(spfft)\n",
    "\n",
    "pd.set_option('display.max_columns', 30)"
   ]
  },
  {
   "cell_type": "markdown",
   "metadata": {},
   "source": [
    "# This assumes you already have the dataset downloaded, and only splits the actual files so they can be loaded conditionally"
   ]
  },
  {
   "cell_type": "code",
   "execution_count": 3,
   "metadata": {},
   "outputs": [],
   "source": [
    "def create_dataset_df(json_file, instrument_family_str=\"all\", instrument_source_str=\"all\", pitch=[0, 127], velocity=[0, 127], include_qualities=[], exclude_qualities=[\"distortion\"]):\n",
    "    \n",
    "    if isinstance(json_file, (str, Path)):\n",
    "        path = Path(json_file)\n",
    "        assert path.is_file(), \"json_file needs to point to an examples.json file.\"\n",
    "        with open(path) as f:\n",
    "            df = pd.DataFrame.from_records(json.load(f)).T\n",
    "    else:\n",
    "        assert isinstance(json_file, pd.DataFrame), \"json_file needs to be a pandas DataFrame or a string containing a path to the examples.json file\"\n",
    "        df = json_file\n",
    "        \n",
    "    print(\"JSON loaded into DataFrame!\")\n",
    "    \n",
    "    try:\n",
    "        if instrument_family_str != \"all\":\n",
    "            df = df[df[\"instrument_family_str\"] == instrument_family_str]\n",
    "        if instrument_source_str != \"all\":\n",
    "            df = df[df[\"instrument_source_str\"] == instrument_source_str]\n",
    "        \n",
    "        if pitch != [0, 127]:\n",
    "            df = df[(df[\"pitch\"] >= pitch[0]) & (df[\"pitch\"] <= pitch[1])]\n",
    "        if velocity != [0, 127]:\n",
    "            df = df[(df[\"velocity\"] >= velocity[0]) & (df[\"velocity\"] <= velocity[1])]\n",
    "        \n",
    "        # Map quality strings to 1/0 lists and filter based on those\n",
    "        qualities_str = [\"bright\", \"dark\", \"distortion\", \"fast_decay\", \"long_release\", \"multiphonic\", \"nonlinear_env\", \"percussive\", \"reverb\", \"tempo-synced\"]\n",
    "        assert all([x in qualities_str for x in (include_qualities + exclude_qualities)]), \"Some referred qualities are not legal quality strings.\"\n",
    "        \n",
    "        if len(include_qualities) != 0:\n",
    "            qualities = [1 if x in include_qualities else 0 for x in qualities_str]\n",
    "            # sum(a and b) == sum(a) - all those in included need to be in there\n",
    "            df = df[df.qualities.apply(lambda x: sum(qualities) == sum(np.logical_and(x, qualities)))]\n",
    "        if len(exclude_qualities) > 0:\n",
    "            qualities = [1 if x in exclude_qualities else 0 for x in qualities_str]\n",
    "            # not any(df_qualities and qualities) - there can't be any of the excluded ones in there\n",
    "            df = df[df.qualities.apply(lambda x: not any(np.logical_and(x, qualities)))]\n",
    "    except AttributeError as a:\n",
    "        print(\"Most likely the selection you want doesn't exist. Try broadening the options or find the bug!\")\n",
    "        raise a\n",
    "    except Exception as e:\n",
    "        raise e\n",
    "    \n",
    "    return df\n",
    "\n",
    "\n",
    "def dftostr(df: pd.DataFrame):\n",
    "    return df[\"note_str\"].apply(lambda x: x + \".wav\").to_list()\n",
    "\n",
    "\n",
    "n_samples_nsynth = 64000\n",
    "sample_rate_nsynth = 16000\n",
    "def load_files(path, files: list, format=\"pytorch\"):\n",
    "    assert format in [\"pytorch\", \"numpy\"], \"Format {} not yet supported.\".format(format)\n",
    "    \n",
    "    data = np.empty((n_samples_nsynth, len(files)), dtype=np.float32, order=\"F\")\n",
    "    for i, f in enumerate(files):\n",
    "        data[:, i], _ = librosa.load(path / f, sr=sample_rate_nsynth)\n",
    "        \n",
    "    if format == \"numpy\":\n",
    "        return data\n",
    "    if format == \"pytorch\":\n",
    "        warning(\"If you want to train PyTorch models, you should use the NSynth dataset class.\")\n",
    "        return torch.as_tensor(data)"
   ]
  },
  {
   "cell_type": "code",
   "execution_count": 4,
   "metadata": {},
   "outputs": [],
   "source": [
    "class NSynth(data.Dataset):\n",
    "    \"\"\"PyTorch Dataset for the NSynth dataset.\"\"\"\n",
    "    \n",
    "    def __init__(self, root, json_df: pd.DataFrame, target_field: str, transform=None):\n",
    "        if isinstance(root, (str, Path)):\n",
    "            root = Path(root)\n",
    "            assert root.parts[-1] == \"audio\", \"root needs to point to the nsynth-***/audio folder.\"\n",
    "        assert target_field in [\"instrument\", \"instrument_source\", \"instrument_family\", \"instrument_class\"]\n",
    "        \n",
    "        self.root = root\n",
    "        self.filenames = dftostr(json_df)\n",
    "\n",
    "        if target_field == \"instrument_class\":\n",
    "            # Encode source and family together to make 33 distinct classes\n",
    "            json_df[\"instrument_class\"] = json_df.apply(lambda x: x[\"instrument_source\"]*11 + x[\"instrument_family\"], axis=1)\n",
    "        self.json_df = json_df\n",
    "        \n",
    "        self.targets = json_df[target_field].to_list()\n",
    "        self.transform = transform\n",
    "        \n",
    "\n",
    "    def __len__(self):\n",
    "        return len(self.filenames)\n",
    "\n",
    "    def __getitem__(self, index):\n",
    "        path = self.root / self.filenames[index]\n",
    "        x, _ = ta.load(path, normalization=False)\n",
    "        if self.transform is not None:\n",
    "            x = self.transform(x)\n",
    "        return x, self.targets[index]\n",
    "    \n",
    "SPLIT_SEED = 42\n",
    "def get_train_test(df: pd.DataFrame, target_field, test_size=0.2):\n",
    "    if target_field == \"instrument_class\":\n",
    "        # Encode source and family together to make 33 distinct classes\n",
    "        df[\"instrument_class\"] = df.apply(lambda x: x[\"instrument_source\"] * 11 + x[\"instrument_family\"], axis=1)\n",
    "    targets = df[target_field]\n",
    "    trdf, tedf = train_test_split(df, test_size=test_size, stratify=df[target_field], random_state=SPLIT_SEED)\n",
    "    return trdf, tedf"
   ]
  },
  {
   "cell_type": "code",
   "execution_count": 5,
   "metadata": {},
   "outputs": [],
   "source": [
    "#transform = lambda y: torch.as_tensor(np.abs(librosa.cqt(y.numpy().ravel(), sr=16000, hop_length=192))[np.newaxis, :])\n",
    "#transform = ta.transforms.MelSpectrogram(n_fft=800, hop_length=160)\n",
    "transform = None"
   ]
  },
  {
   "cell_type": "code",
   "execution_count": 6,
   "metadata": {},
   "outputs": [
    {
     "name": "stdout",
     "output_type": "stream",
     "text": [
      "JSON loaded into DataFrame!\n"
     ]
    }
   ],
   "source": [
    "path = Path(\"/home/tim/Desktop/MLP64/dataset/nsynth-valid/\")\n",
    "vdf = create_dataset_df(path / \"examples.json\")\n",
    "trdf, tedf = get_train_test(vdf, \"instrument_family\")\n",
    "trds = NSynth(path / \"audio\", trdf, target_field=\"instrument_family\", transform=transform)\n",
    "teds = NSynth(path / \"audio\", tedf, target_field=\"instrument_family\", transform=transform)\n",
    "trloader = data.DataLoader(trds, batch_size=32)\n",
    "teloader = data.DataLoader(teds, batch_size=32)\n",
    "\n",
    "#path = Path(\"/home/tim/Desktop/MLP64/dataset/nsynth-train/\")\n",
    "#tdf = filter_notes(path / \"examples.json\")\n",
    "#ds = NSynth(path / \"audio\", vdf, target_field=\"instrument_class\", transform=ta.transforms.MelSpectrogram())\n",
    "#loader = data.DataLoader(ds, batch_size=32)"
   ]
  },
  {
   "cell_type": "code",
   "execution_count": 7,
   "metadata": {},
   "outputs": [],
   "source": [
    "# Example usage to load files into numpy arrays\n",
    "npdata = load_files(path / \"audio\", dftostr(vdf), format=\"numpy\")"
   ]
  },
  {
   "cell_type": "code",
   "execution_count": 8,
   "metadata": {},
   "outputs": [],
   "source": [
    "sd.play(npdata[:, 10])"
   ]
  },
  {
   "cell_type": "code",
   "execution_count": 15,
   "metadata": {
    "collapsed": false,
    "jupyter": {
     "outputs_hidden": false
    },
    "pycharm": {
     "name": "#%%\n"
    }
   },
   "outputs": [
    {
     "name": "stdout",
     "output_type": "stream",
     "text": [
      "320 160\n"
     ]
    }
   ],
   "source": [
    "# 16000 * 4 = 64000 samples\n",
    "# 16000 samples per second\n",
    "# 50ms are in 16000/20 = 800 samples\n",
    "sr = 16000\n",
    "frame_size = 0.02\n",
    "frame_stride = 0.01\n",
    "frame_length, frame_step = frame_size * sr, frame_stride * sr\n",
    "frame_length = int(round(frame_length))\n",
    "frame_step = int(round(frame_step))\n",
    "signal_length = 64000\n",
    "num_frames = int(np.ceil(float(np.abs(signal_length - frame_length)) / frame_step))  # Make sure that we have at least 1 frame\n",
    "print(frame_length, frame_step)"
   ]
  },
  {
   "cell_type": "code",
   "execution_count": 2,
   "metadata": {
    "collapsed": false,
    "jupyter": {
     "outputs_hidden": false
    },
    "pycharm": {
     "name": "#%%\n"
    }
   },
   "outputs": [
    {
     "data": {
      "text/plain": [
       "320.0"
      ]
     },
     "execution_count": 2,
     "metadata": {},
     "output_type": "execute_result"
    }
   ],
   "source": [
    "16000/50"
   ]
  },
  {
   "cell_type": "code",
   "execution_count": null,
   "metadata": {
    "collapsed": false,
    "jupyter": {
     "outputs_hidden": false
    },
    "pycharm": {
     "name": "#%%\n"
    }
   },
   "outputs": [],
   "source": [
    "n_fft = frame_length\n",
    "hop_length = frame_step\n",
    "n_mels = 128\n",
    "sr = 16000\n",
    "S = librosa.feature.melspectrogram(npdata[:, 9323], sr=sr, n_fft=n_fft, \n",
    "                                   hop_length=hop_length, \n",
    "                                   n_mels=n_mels)\n",
    "S_DB = librosa.power_to_db(S, ref=np.max)\n",
    "librosa.display.specshow(S_DB, sr=sr, hop_length=hop_length, \n",
    "                         x_axis='time', y_axis='mel');\n",
    "plt.colorbar(format='%+2.0f dB');"
   ]
  },
  {
   "cell_type": "code",
   "execution_count": null,
   "metadata": {
    "collapsed": false,
    "jupyter": {
     "outputs_hidden": false
    },
    "pycharm": {
     "name": "#%%\n"
    }
   },
   "outputs": [],
   "source": [
    "S_DB.shape"
   ]
  },
  {
   "cell_type": "code",
   "execution_count": null,
   "metadata": {
    "collapsed": false,
    "jupyter": {
     "outputs_hidden": false
    },
    "pycharm": {
     "name": "#%%\n"
    }
   },
   "outputs": [],
   "source": [
    "print(frame_length, frame_step)"
   ]
  },
  {
   "cell_type": "code",
   "execution_count": null,
   "metadata": {
    "collapsed": false,
    "jupyter": {
     "outputs_hidden": false
    },
    "pycharm": {
     "name": "#%%\n"
    }
   },
   "outputs": [],
   "source": [
    "num_frames"
   ]
  },
  {
   "cell_type": "code",
   "execution_count": 71,
   "metadata": {},
   "outputs": [
    {
     "data": {
      "image/png": "[encoded data removed]",
      "text/plain": [
       "<Figure size 432x288 with 2 Axes>"
      ]
     },
     "metadata": {
      "needs_background": "light"
     },
     "output_type": "display_data"
    }
   ],
   "source": [
    "n_fft = frame_length\n",
    "hop_length = frame_step\n",
    "n_mels = 128\n",
    "sr = 16000\n",
    "S = librosa.feature.melspectrogram(npdata[:, 9323], sr=sr, n_fft=n_fft, \n",
    "                                   hop_length=hop_length, \n",
    "                                   n_mels=n_mels)\n",
    "S_DB = librosa.power_to_db(S, ref=np.max)\n",
    "librosa.display.specshow(S_DB, sr=sr, hop_length=hop_length, \n",
    "                         x_axis='time', y_axis='mel');\n",
    "plt.colorbar(format='%+2.0f dB');"
   ]
  },
  {
   "cell_type": "code",
   "execution_count": 55,
   "metadata": {},
   "outputs": [
    {
     "data": {
      "text/plain": [
       "(128, 401)"
      ]
     },
     "execution_count": 55,
     "metadata": {},
     "output_type": "execute_result"
    }
   ],
   "source": [
    "S_DB.shape"
   ]
  },
  {
   "cell_type": "code",
   "execution_count": 72,
   "metadata": {},
   "outputs": [
    {
     "name": "stdout",
     "output_type": "stream",
     "text": [
      "800 160\n"
     ]
    }
   ],
   "source": [
    "print(frame_length, frame_step)"
   ]
  },
  {
   "cell_type": "code",
   "execution_count": 27,
   "metadata": {},
   "outputs": [],
   "source": [
    "import data2"
   ]
  },
  {
   "cell_type": "code",
   "execution_count": 28,
   "metadata": {},
   "outputs": [],
   "source": [
    "d = data2.EncodedFilesDataset(\"../dataset/nsynth-test/audio\", 64000, file_type=\"wav\")"
   ]
  },
  {
   "cell_type": "code",
   "execution_count": 15,
   "metadata": {},
   "outputs": [
    {
     "name": "stderr",
     "output_type": "stream",
     "text": [
      "100%|██████████| 4096/4096 [03:33<00:00, 19.17it/s]\n"
     ]
    }
   ],
   "source": [
    "d.dump_to_folder(\"datatest\")"
   ]
  },
  {
   "cell_type": "code",
   "execution_count": 37,
   "metadata": {},
   "outputs": [
    {
     "name": "stderr",
     "output_type": "stream",
     "text": [
      "2020-02-20 19:15:16,920 - INFO - Dataset created. 4096 files, augmentation: False. Path: datatest\n"
     ]
    }
   ],
   "source": [
    "d2 = data2.H5Dataset(\"datatest\", 64000, \"wav\", epoch_len=4096)\n",
    "dl = torch.utils.data.dataloader.DataLoader(d2)"
   ]
  },
  {
   "cell_type": "code",
   "execution_count": 66,
   "metadata": {},
   "outputs": [
    {
     "name": "stdout",
     "output_type": "stream",
     "text": [
      "3.37 ms ± 119 µs per loop (mean ± std. dev. of 7 runs, 100 loops each)\n"
     ]
    }
   ],
   "source": [
    "%%timeit \n",
    "d2.__getitem__(1)"
   ]
  },
  {
   "cell_type": "code",
   "execution_count": 22,
   "metadata": {},
   "outputs": [],
   "source": [
    "transform1 = lambda y: torch.as_tensor(np.abs(librosa.cqt(y.numpy().ravel(), sr=16000, hop_length=192))[np.newaxis, :])\n",
    "transform2 = ta.transforms.MelSpectrogram(n_fft=800, hop_length=160)"
   ]
  },
  {
   "cell_type": "code",
   "execution_count": 87,
   "metadata": {},
   "outputs": [
    {
     "name": "stdout",
     "output_type": "stream",
     "text": [
      "JSON loaded into DataFrame!\n"
     ]
    }
   ],
   "source": [
    "path = Path(\"/home/tim/Desktop/MLP64/dataset/nsynth-valid/\")\n",
    "vdf = create_dataset_df(path / \"examples.json\")\n",
    "trdf, tedf = get_train_test(vdf, \"instrument_family\")\n",
    "trds = NSynth(path / \"audio\", trdf, target_field=\"instrument_family\", transform=None)\n",
    "teds = NSynth(path / \"audio\", tedf, target_field=\"instrument_family\", transform=transform)\n",
    "trloader = data.DataLoader(trds, batch_size=32)\n",
    "teloader = data.DataLoader(teds, batch_size=32)\n",
    "\n",
    "#path = Path(\"/home/tim/Desktop/MLP64/dataset/nsynth-train/\")\n",
    "#tdf = filter_notes(path / \"examples.json\")\n",
    "#ds = NSynth(path / \"audio\", vdf, target_field=\"instrument_class\", transform=ta.transforms.MelSpectrogram())\n",
    "#loader = data.DataLoader(ds, batch_size=32)"
   ]
  },
  {
   "cell_type": "code",
   "execution_count": 82,
   "metadata": {},
   "outputs": [
    {
     "name": "stdout",
     "output_type": "stream",
     "text": [
      "1.02 ms ± 9.68 µs per loop (mean ± std. dev. of 7 runs, 1000 loops each)\n"
     ]
    }
   ],
   "source": [
    "%%timeit\n",
    "# transform2\n",
    "i = np.random.choice(4096)\n",
    "trds.__getitem__(i)"
   ]
  },
  {
   "cell_type": "code",
   "execution_count": 88,
   "metadata": {},
   "outputs": [
    {
     "name": "stdout",
     "output_type": "stream",
     "text": [
      "350 µs ± 5.16 µs per loop (mean ± std. dev. of 7 runs, 1000 loops each)\n"
     ]
    }
   ],
   "source": [
    "%%timeit\n",
    "# No transform\n",
    "i = np.random.choice(4096)\n",
    "trds.__getitem__(i)"
   ]
  },
  {
   "cell_type": "code",
   "execution_count": 76,
   "metadata": {},
   "outputs": [
    {
     "name": "stdout",
     "output_type": "stream",
     "text": [
      "35.3 ms ± 229 µs per loop (mean ± std. dev. of 7 runs, 10 loops each)\n"
     ]
    }
   ],
   "source": [
    "%%timeit\n",
    "# transform = lambda y: torch.as_tensor(np.abs(librosa.cqt(y.numpy().ravel(), sr=16000, hop_length=192))[np.newaxis, :])\n",
    "i = np.random.choice(4096)\n",
    "trds.__getitem__(i)"
   ]
  },
  {
   "cell_type": "code",
   "execution_count": 98,
   "metadata": {},
   "outputs": [],
   "source": [
    "item = trds.__getitem__(100)[0]\n",
    "npitem = item.numpy().ravel() # this takes no time"
   ]
  },
  {
   "cell_type": "code",
   "execution_count": 93,
   "metadata": {},
   "outputs": [
    {
     "data": {
      "text/plain": [
       "torch.Size([1, 64000])"
      ]
     },
     "execution_count": 93,
     "metadata": {},
     "output_type": "execute_result"
    }
   ],
   "source": [
    "item.shape"
   ]
  },
  {
   "cell_type": "code",
   "execution_count": 94,
   "metadata": {},
   "outputs": [
    {
     "name": "stdout",
     "output_type": "stream",
     "text": [
      "597 µs ± 14.4 µs per loop (mean ± std. dev. of 7 runs, 1000 loops each)\n"
     ]
    }
   ],
   "source": [
    "%%timeit\n",
    "transform2(item)"
   ]
  },
  {
   "cell_type": "code",
   "execution_count": 100,
   "metadata": {},
   "outputs": [
    {
     "name": "stdout",
     "output_type": "stream",
     "text": [
      "34.3 ms ± 268 µs per loop (mean ± std. dev. of 7 runs, 10 loops each)\n"
     ]
    }
   ],
   "source": [
    "%%timeit\n",
    "# using numpy fft\n",
    "librosa.cqt(npitem, sr=16000, hop_length=192)"
   ]
  },
  {
   "cell_type": "code",
   "execution_count": 102,
   "metadata": {},
   "outputs": [
    {
     "name": "stdout",
     "output_type": "stream",
     "text": [
      "35 ms ± 507 µs per loop (mean ± std. dev. of 7 runs, 10 loops each)\n"
     ]
    }
   ],
   "source": [
    "%%timeit\n",
    "# using scipy fft\n",
    "librosa.cqt(npitem, sr=16000, hop_length=192)"
   ]
  },
  {
   "cell_type": "markdown",
   "metadata": {},
   "source": [
    "## Time librosa vs torch vs numpy load"
   ]
  },
  {
   "cell_type": "code",
   "execution_count": 6,
   "metadata": {},
   "outputs": [],
   "source": [
    "files = trds.filenames"
   ]
  },
  {
   "cell_type": "code",
   "execution_count": 12,
   "metadata": {},
   "outputs": [
    {
     "data": {
      "text/plain": [
       "'/home/tim/Desktop/MLP64/notebooks'"
      ]
     },
     "execution_count": 12,
     "metadata": {},
     "output_type": "execute_result"
    }
   ],
   "source": [
    "os.getcwd()"
   ]
  },
  {
   "cell_type": "code",
   "execution_count": 9,
   "metadata": {},
   "outputs": [],
   "source": [
    "def load_librosa(file):\n",
    "    return librosa.load(file, sr=16000)"
   ]
  },
  {
   "cell_type": "code",
   "execution_count": 13,
   "metadata": {},
   "outputs": [
    {
     "name": "stdout",
     "output_type": "stream",
     "text": [
      "344 µs ± 82.4 µs per loop (mean ± std. dev. of 7 runs, 1000 loops each)\n"
     ]
    }
   ],
   "source": [
    "%%timeit\n",
    "# transform2\n",
    "i = np.random.choice(4096)\n",
    "a = load_librosa(\"../dataset/nsynth-valid/audio/\" + files[i])"
   ]
  },
  {
   "cell_type": "code",
   "execution_count": 17,
   "metadata": {},
   "outputs": [
    {
     "name": "stdout",
     "output_type": "stream",
     "text": [
      "368 µs ± 13.7 µs per loop (mean ± std. dev. of 7 runs, 1000 loops each)\n"
     ]
    }
   ],
   "source": [
    "%%timeit\n",
    "# transform = lambda y: torch.as_tensor(np.abs(librosa.cqt(y.numpy().ravel(), sr=16000, hop_length=192))[np.newaxis, :])\n",
    "i = np.random.choice(4096)\n",
    "trds.__getitem__(i)"
   ]
  },
  {
   "cell_type": "code",
   "execution_count": 19,
   "metadata": {},
   "outputs": [
    {
     "name": "stdout",
     "output_type": "stream",
     "text": [
      "1.7 s ± 9.58 ms per loop (mean ± std. dev. of 7 runs, 1 loop each)\n"
     ]
    }
   ],
   "source": [
    "%%timeit\n",
    "# Example usage to load files into numpy arrays\n",
    "npdata = load_files(path / \"audio\", files, format=\"numpy\")"
   ]
  },
  {
   "cell_type": "code",
   "execution_count": 53,
   "metadata": {},
   "outputs": [],
   "source": [
    "import pickle"
   ]
  },
  {
   "cell_type": "code",
   "execution_count": 60,
   "metadata": {},
   "outputs": [
    {
     "data": {
      "text/plain": [
       "'something_usersf'"
      ]
     },
     "execution_count": 60,
     "metadata": {},
     "output_type": "execute_result"
    }
   ],
   "source": [
    "'something_usersf.wav'.split('.')[0]"
   ]
  },
  {
   "cell_type": "code",
   "execution_count": 58,
   "metadata": {},
   "outputs": [
    {
     "data": {
      "text/plain": [
       "array([[1.6493243e-01, 1.6377628e-01, 1.6090757e-01, ..., 0.0000000e+00,\n",
       "        0.0000000e+00, 0.0000000e+00],\n",
       "       [1.7682044e-01, 1.7543192e-01, 1.7201942e-01, ..., 0.0000000e+00,\n",
       "        0.0000000e+00, 0.0000000e+00],\n",
       "       [1.8145946e-01, 1.7981760e-01, 1.7576969e-01, ..., 0.0000000e+00,\n",
       "        0.0000000e+00, 0.0000000e+00],\n",
       "       ...,\n",
       "       [1.7689794e-06, 5.2613708e-05, 1.6083974e-04, ..., 0.0000000e+00,\n",
       "        0.0000000e+00, 0.0000000e+00],\n",
       "       [1.4114272e-06, 1.2804197e-04, 4.1278246e-05, ..., 0.0000000e+00,\n",
       "        0.0000000e+00, 0.0000000e+00],\n",
       "       [7.8167926e-07, 7.4845128e-05, 5.3036179e-05, ..., 0.0000000e+00,\n",
       "        0.0000000e+00, 0.0000000e+00]], dtype=float32)"
      ]
     },
     "execution_count": 58,
     "metadata": {},
     "output_type": "execute_result"
    }
   ],
   "source": [
    "transform1(npdata[:, 0])"
   ]
  },
  {
   "cell_type": "code",
   "execution_count": 59,
   "metadata": {},
   "outputs": [],
   "source": [
    "with open('test.pkl', 'wb') as f:\n",
    "    pickle.dump(transform1(npdata[:, 0]), f)"
   ]
  },
  {
   "cell_type": "code",
   "execution_count": 51,
   "metadata": {},
   "outputs": [
    {
     "data": {
      "text/plain": [
       "(7980, 84, 334)"
      ]
     },
     "execution_count": 51,
     "metadata": {},
     "output_type": "execute_result"
    }
   ],
   "source": [
    "a.shape"
   ]
  },
  {
   "cell_type": "code",
   "execution_count": 50,
   "metadata": {},
   "outputs": [],
   "source": [
    "a = np.apply_along_axis(transform1, 1, npdata.T)"
   ]
  },
  {
   "cell_type": "code",
   "execution_count": 52,
   "metadata": {},
   "outputs": [
    {
     "data": {
      "text/plain": [
       "(64000, 7980)"
      ]
     },
     "execution_count": 52,
     "metadata": {},
     "output_type": "execute_result"
    }
   ],
   "source": [
    "npdata.shape"
   ]
  },
  {
   "cell_type": "code",
   "execution_count": 37,
   "metadata": {},
   "outputs": [],
   "source": [
    "transform1 = lambda y:np.abs(librosa.cqt(y, sr=16000, hop_length=192))"
   ]
  },
  {
   "cell_type": "code",
   "execution_count": 24,
   "metadata": {},
   "outputs": [
    {
     "data": {
      "text/plain": [
       "array([[ 0.0000000e+00, -1.2207031e-04,  0.0000000e+00, ...,\n",
       "        -1.3122559e-03, -1.6784668e-03, -3.0517578e-05],\n",
       "       [ 0.0000000e+00, -1.7089844e-03,  0.0000000e+00, ...,\n",
       "        -1.2237549e-02,  1.1596680e-02,  3.0517578e-05],\n",
       "       [ 0.0000000e+00, -3.6621094e-03,  0.0000000e+00, ...,\n",
       "        -2.9174805e-02, -1.0772705e-02, -3.0517578e-05],\n",
       "       ...,\n",
       "       [ 0.0000000e+00,  0.0000000e+00,  0.0000000e+00, ...,\n",
       "         0.0000000e+00,  0.0000000e+00,  0.0000000e+00],\n",
       "       [ 0.0000000e+00,  0.0000000e+00,  0.0000000e+00, ...,\n",
       "         0.0000000e+00,  0.0000000e+00,  0.0000000e+00],\n",
       "       [ 0.0000000e+00,  0.0000000e+00,  0.0000000e+00, ...,\n",
       "         0.0000000e+00,  0.0000000e+00,  0.0000000e+00]], dtype=float32)"
      ]
     },
     "execution_count": 24,
     "metadata": {},
     "output_type": "execute_result"
    }
   ],
   "source": [
    "npdata"
   ]
  }
 ],
 "metadata": {
  "kernelspec": {
   "display_name": "mlp",
   "language": "python",
   "name": "mlp"
  },
  "language_info": {
   "codemirror_mode": {
    "name": "ipython",
    "version": 3
   },
   "file_extension": ".py",
   "mimetype": "text/x-python",
   "name": "python",
   "nbconvert_exporter": "python",
   "pygments_lexer": "ipython3",
   "version": "3.7.6"
  },
  "pycharm": {
   "stem_cell": {
    "cell_type": "raw",
    "metadata": {
     "collapsed": false
    },
    "source": []
   }
  }
 },
 "nbformat": 4,
 "nbformat_minor": 4
}
