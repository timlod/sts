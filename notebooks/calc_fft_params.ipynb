{
 "cells": [
  {
   "cell_type": "code",
   "execution_count": 2,
   "metadata": {},
   "outputs": [],
   "source": [
    "import os\n",
    "from pathlib import Path\n",
    "import numpy as np\n",
    "import pandas as pd\n",
    "import librosa\n",
    "import librosa.display\n",
    "import sounddevice as sd\n",
    "sd.default.samplerate = 16000\n",
    "import torch\n",
    "from mlp64 import data\n",
    "from mlp64 import st\n",
    "import torchaudio as ta\n",
    "import matplotlib.pyplot as plt\n",
    "from IPython.display import Audio\n",
    "\n",
    "import scipy.fft as spfft\n",
    "librosa.set_fftlib(spfft)\n",
    "\n",
    "pd.set_option('display.max_columns', 30)"
   ]
  },
  {
   "cell_type": "code",
   "execution_count": 36,
   "metadata": {},
   "outputs": [],
   "source": [
    "path = Path(\"/home/tim/Desktop/MLP64/dataset/nsynth-test/\")\n",
    "\n",
    "scontent = 'keyboard_acoustic_004-079-127.wav'\n",
    "sstyle = 'brass_acoustic_046-059-075.wav'\n",
    "others = ['bass_electronic_018-022-100.wav', 'flute_acoustic_002-107-100.wav']"
   ]
  },
  {
   "cell_type": "code",
   "execution_count": 37,
   "metadata": {},
   "outputs": [],
   "source": [
    "npdata = data.load_files(path / \"audio\", [scontent, sstyle] + others)"
   ]
  },
  {
   "cell_type": "code",
   "execution_count": 55,
   "metadata": {},
   "outputs": [
    {
     "name": "stdout",
     "output_type": "stream",
     "text": [
      "Frame length: 1488 Frame stepsize: 160 Num. frames: 391\n"
     ]
    }
   ],
   "source": [
    "# 16000 * 4 = 64000 samples\n",
    "# 16000 samples per second\n",
    "# e.g. 50ms are in 16000/20 = 800 samples\n",
    "signal_length = 64000\n",
    "sr = 16000\n",
    "frame_size = 93/1000\n",
    "frame_stride = 0.01\n",
    "frame_length, frame_step = frame_size * sr, frame_stride * sr\n",
    "frame_length = int(round(frame_length))\n",
    "frame_step = int(round(frame_step))\n",
    "num_frames = int(np.ceil(float(np.abs(signal_length - frame_length)) / frame_step))  # Make sure that we have at least 1 frame\n",
    "print(\"Frame length:\", frame_length, \"Frame stepsize:\", frame_step, \"Num. frames:\", num_frames)"
   ]
  },
  {
   "cell_type": "code",
   "execution_count": 20,
   "metadata": {},
   "outputs": [
    {
     "data": {
      "text/plain": [
       "0.05"
      ]
     },
     "execution_count": 20,
     "metadata": {},
     "output_type": "execute_result"
    }
   ],
   "source": [
    "def mstofrac(x):\n",
    "    x/1000"
   ]
  },
  {
   "cell_type": "code",
   "execution_count": 73,
   "metadata": {},
   "outputs": [],
   "source": [
    "def stft_params(sr, frame_ms, hop_ms, signal_length):\n",
    "    # Librosa stft uses signal_length/hop_length to determine number of frames, doesn't subtract frame_length first\n",
    "    # Always truncate towards 0\n",
    "    n_fft = int(sr * frame_ms/1000)\n",
    "    hop_length = int(sr * hop_ms/1000)\n",
    "    num_frames = int(np.ceil(signal_length/hop_length))\n",
    "    num_bins = int(1 + n_fft/2)\n",
    "    return n_fft, hop_length, num_bins, num_frames"
   ]
  },
  {
   "cell_type": "code",
   "execution_count": 80,
   "metadata": {},
   "outputs": [],
   "source": [
    "def mstobin(ms, n_fft, hop_length, sr=16000):\n",
    "    ms_samples = ms/1000 * sr\n",
    "    return (ms_samples)/hop_length"
   ]
  },
  {
   "cell_type": "code",
   "execution_count": 83,
   "metadata": {},
   "outputs": [
    {
     "data": {
      "text/plain": [
       "20.0"
      ]
     },
     "execution_count": 83,
     "metadata": {},
     "output_type": "execute_result"
    }
   ],
   "source": [
    "mstobin(200, 800, 160)"
   ]
  },
  {
   "cell_type": "code",
   "execution_count": 32,
   "metadata": {},
   "outputs": [
    {
     "data": {
      "text/plain": [
       "195.0"
      ]
     },
     "execution_count": 32,
     "metadata": {},
     "output_type": "execute_result"
    }
   ],
   "source": [
    "mstobin(2000, 800, 160, 16000)"
   ]
  },
  {
   "cell_type": "code",
   "execution_count": 44,
   "metadata": {
    "collapsed": true,
    "jupyter": {
     "outputs_hidden": true
    }
   },
   "outputs": [
    {
     "data": {
      "text/plain": [
       "\u001b[0;31mSignature:\u001b[0m\n",
       "\u001b[0mlibrosa\u001b[0m\u001b[0;34m.\u001b[0m\u001b[0mstft\u001b[0m\u001b[0;34m(\u001b[0m\u001b[0;34m\u001b[0m\n",
       "\u001b[0;34m\u001b[0m    \u001b[0my\u001b[0m\u001b[0;34m,\u001b[0m\u001b[0;34m\u001b[0m\n",
       "\u001b[0;34m\u001b[0m    \u001b[0mn_fft\u001b[0m\u001b[0;34m=\u001b[0m\u001b[0;36m2048\u001b[0m\u001b[0;34m,\u001b[0m\u001b[0;34m\u001b[0m\n",
       "\u001b[0;34m\u001b[0m    \u001b[0mhop_length\u001b[0m\u001b[0;34m=\u001b[0m\u001b[0;32mNone\u001b[0m\u001b[0;34m,\u001b[0m\u001b[0;34m\u001b[0m\n",
       "\u001b[0;34m\u001b[0m    \u001b[0mwin_length\u001b[0m\u001b[0;34m=\u001b[0m\u001b[0;32mNone\u001b[0m\u001b[0;34m,\u001b[0m\u001b[0;34m\u001b[0m\n",
       "\u001b[0;34m\u001b[0m    \u001b[0mwindow\u001b[0m\u001b[0;34m=\u001b[0m\u001b[0;34m'hann'\u001b[0m\u001b[0;34m,\u001b[0m\u001b[0;34m\u001b[0m\n",
       "\u001b[0;34m\u001b[0m    \u001b[0mcenter\u001b[0m\u001b[0;34m=\u001b[0m\u001b[0;32mTrue\u001b[0m\u001b[0;34m,\u001b[0m\u001b[0;34m\u001b[0m\n",
       "\u001b[0;34m\u001b[0m    \u001b[0mdtype\u001b[0m\u001b[0;34m=\u001b[0m\u001b[0;34m<\u001b[0m\u001b[0;32mclass\u001b[0m \u001b[0;34m'numpy.complex64'\u001b[0m\u001b[0;34m>\u001b[0m\u001b[0;34m,\u001b[0m\u001b[0;34m\u001b[0m\n",
       "\u001b[0;34m\u001b[0m    \u001b[0mpad_mode\u001b[0m\u001b[0;34m=\u001b[0m\u001b[0;34m'reflect'\u001b[0m\u001b[0;34m,\u001b[0m\u001b[0;34m\u001b[0m\n",
       "\u001b[0;34m\u001b[0m\u001b[0;34m)\u001b[0m\u001b[0;34m\u001b[0m\u001b[0;34m\u001b[0m\u001b[0m\n",
       "\u001b[0;31mDocstring:\u001b[0m\n",
       "Short-time Fourier transform (STFT). [1]_ (chapter 2)\n",
       "\n",
       "The STFT represents a signal in the time-frequency domain by\n",
       "computing discrete Fourier transforms (DFT) over short overlapping\n",
       "windows.\n",
       "\n",
       "This function returns a complex-valued matrix D such that\n",
       "\n",
       "- `np.abs(D[f, t])` is the magnitude of frequency bin `f`\n",
       "  at frame `t`, and\n",
       "\n",
       "- `np.angle(D[f, t])` is the phase of frequency bin `f`\n",
       "  at frame `t`.\n",
       "\n",
       "The integers `t` and `f` can be converted to physical units by means\n",
       "of the utility functions `frames_to_sample` and `fft_frequencies`.\n",
       "\n",
       ".. [1] M. Müller. \"Fundamentals of Music Processing.\" Springer, 2015\n",
       "\n",
       "\n",
       "Parameters\n",
       "----------\n",
       "y : np.ndarray [shape=(n,)], real-valued\n",
       "    input signal\n",
       "\n",
       "n_fft : int > 0 [scalar]\n",
       "    length of the windowed signal after padding with zeros.\n",
       "    The number of rows in the STFT matrix `D` is (1 + n_fft/2).\n",
       "    The default value, n_fft=2048 samples, corresponds to a physical\n",
       "    duration of 93 milliseconds at a sample rate of 22050 Hz, i.e. the\n",
       "    default sample rate in librosa. This value is well adapted for music\n",
       "    signals. However, in speech processing, the recommended value is 512,\n",
       "    corresponding to 23 milliseconds at a sample rate of 22050 Hz.\n",
       "    In any case, we recommend setting `n_fft` to a power of two for\n",
       "    optimizing the speed of the fast Fourier transform (FFT) algorithm.\n",
       "\n",
       "hop_length : int > 0 [scalar]\n",
       "    number of audio samples between adjacent STFT columns.\n",
       "\n",
       "    Smaller values increase the number of columns in `D` without\n",
       "    affecting the frequency resolution of the STFT.\n",
       "\n",
       "    If unspecified, defaults to `win_length / 4` (see below).\n",
       "\n",
       "win_length : int <= n_fft [scalar]\n",
       "    Each frame of audio is windowed by `window()` of length `win_length`\n",
       "    and then padded with zeros to match `n_fft`.\n",
       "\n",
       "    Smaller values improve the temporal resolution of the STFT (i.e. the\n",
       "    ability to discriminate impulses that are closely spaced in time)\n",
       "    at the expense of frequency resolution (i.e. the ability to discriminate\n",
       "    pure tones that are closely spaced in frequency). This effect is known\n",
       "    as the time-frequency localization tradeoff and needs to be adjusted\n",
       "    according to the properties of the input signal `y`.\n",
       "\n",
       "    If unspecified, defaults to ``win_length = n_fft``.\n",
       "\n",
       "window : string, tuple, number, function, or np.ndarray [shape=(n_fft,)]\n",
       "    Either:\n",
       "\n",
       "    - a window specification (string, tuple, or number);\n",
       "      see `scipy.signal.get_window`\n",
       "\n",
       "    - a window function, such as `scipy.signal.hanning`\n",
       "\n",
       "    - a vector or array of length `n_fft`\n",
       "\n",
       "\n",
       "    Defaults to a raised cosine window (\"hann\"), which is adequate for\n",
       "    most applications in audio signal processing.\n",
       "\n",
       "    .. see also:: `filters.get_window`\n",
       "\n",
       "center : boolean\n",
       "    If `True`, the signal `y` is padded so that frame\n",
       "    `D[:, t]` is centered at `y[t * hop_length]`.\n",
       "\n",
       "    If `False`, then `D[:, t]` begins at `y[t * hop_length]`.\n",
       "\n",
       "    Defaults to `True`,  which simplifies the alignment of `D` onto a\n",
       "    time grid by means of `librosa.core.frames_to_samples`.\n",
       "    Note, however, that `center` must be set to `False` when analyzing\n",
       "    signals with `librosa.stream`.\n",
       "\n",
       "    .. see also:: `stream`\n",
       "\n",
       "dtype : numeric type\n",
       "    Complex numeric type for `D`.  Default is single-precision\n",
       "    floating-point complex (`np.complex64`).\n",
       "\n",
       "pad_mode : string or function\n",
       "    If `center=True`, this argument is passed to `np.pad` for padding\n",
       "    the edges of the signal `y`. By default (`pad_mode=\"reflect\"`),\n",
       "    `y` is padded on both sides with its own reflection, mirrored around\n",
       "    its first and last sample respectively.\n",
       "    If `center=False`,  this argument is ignored.\n",
       "\n",
       "    .. see also:: `np.pad`\n",
       "\n",
       "\n",
       "Returns\n",
       "-------\n",
       "D : np.ndarray [shape=(1 + n_fft/2, n_frames), dtype=dtype]\n",
       "    Complex-valued matrix of short-term Fourier transform\n",
       "    coefficients.\n",
       "\n",
       "\n",
       "See Also\n",
       "--------\n",
       "istft : Inverse STFT\n",
       "\n",
       "reassigned_spectrogram : Time-frequency reassigned spectrogram\n",
       "\n",
       "\n",
       "Notes\n",
       "-----\n",
       "This function caches at level 20.\n",
       "\n",
       "\n",
       "Examples\n",
       "--------\n",
       "\n",
       ">>> y, sr = librosa.load(librosa.util.example_audio_file())\n",
       ">>> D = np.abs(librosa.stft(y))\n",
       ">>> D\n",
       "array([[2.58028018e-03, 4.32422794e-02, 6.61255598e-01, ...,\n",
       "        6.82710262e-04, 2.51654536e-04, 7.23036574e-05],\n",
       "       [2.49403086e-03, 5.15930466e-02, 6.00107312e-01, ...,\n",
       "        3.48026224e-04, 2.35853557e-04, 7.54836728e-05],\n",
       "       [7.82410789e-04, 1.05394892e-01, 4.37517226e-01, ...,\n",
       "        6.29352580e-04, 3.38571583e-04, 8.38094638e-05],\n",
       "       ...,\n",
       "       [9.48568513e-08, 4.74725084e-07, 1.50052492e-05, ...,\n",
       "        1.85637656e-08, 2.89708542e-08, 5.74304337e-09],\n",
       "       [1.25165826e-07, 8.58259284e-07, 1.11157215e-05, ...,\n",
       "        3.49099771e-08, 3.11740926e-08, 5.29926236e-09],\n",
       "       [1.70630571e-07, 8.92518756e-07, 1.23656537e-05, ...,\n",
       "        5.33256745e-08, 3.33264900e-08, 5.13272980e-09]], dtype=float32)\n",
       "\n",
       "Use left-aligned frames, instead of centered frames\n",
       "\n",
       ">>> D_left = np.abs(librosa.stft(y, center=False))\n",
       "\n",
       "\n",
       "Use a shorter hop length\n",
       "\n",
       ">>> D_short = np.abs(librosa.stft(y, hop_length=64))\n",
       "\n",
       "\n",
       "Display a spectrogram\n",
       "\n",
       ">>> import matplotlib.pyplot as plt\n",
       ">>> librosa.display.specshow(librosa.amplitude_to_db(D,\n",
       "...                                                  ref=np.max),\n",
       "...                          y_axis='log', x_axis='time')\n",
       ">>> plt.title('Power spectrogram')\n",
       ">>> plt.colorbar(format='%+2.0f dB')\n",
       ">>> plt.tight_layout()\n",
       ">>> plt.show()\n",
       "\u001b[0;31mFile:\u001b[0m      ~/miniconda3/envs/mlp/lib/python3.7/site-packages/librosa/core/spectrum.py\n",
       "\u001b[0;31mType:\u001b[0m      function\n"
      ]
     },
     "metadata": {},
     "output_type": "display_data"
    }
   ],
   "source": [
    "?librosa.stft"
   ]
  },
  {
   "cell_type": "code",
   "execution_count": 64,
   "metadata": {},
   "outputs": [
    {
     "data": {
      "text/plain": [
       "383.23353293413174"
      ]
     },
     "execution_count": 64,
     "metadata": {},
     "output_type": "execute_result"
    }
   ],
   "source": [
    "64000/167"
   ]
  },
  {
   "cell_type": "code",
   "execution_count": null,
   "metadata": {},
   "outputs": [],
   "source": []
  },
  {
   "cell_type": "code",
   "execution_count": 71,
   "metadata": {},
   "outputs": [
    {
     "name": "stdout",
     "output_type": "stream",
     "text": [
      "131.5\n",
      "(131, 384) 50304\n",
      "(63961,)\n"
     ]
    }
   ],
   "source": [
    "hop_length = 167\n",
    "n_fft = 261\n",
    "print(1 + n_fft/2)\n",
    "c = librosa.stft(npdata[:, 1], n_fft=n_fft, hop_length=hop_length)\n",
    "print(c.shape, np.prod(c.shape))\n",
    "ic = librosa.istft(c, hop_length=hop_length)\n",
    "print(ic.shape)\n",
    "sd.play(ic)"
   ]
  },
  {
   "cell_type": "markdown",
   "metadata": {},
   "source": [
    "# even n_fft -> odd number of frames and vice versa\n",
    "n_frames = ceil(signal_length)/hop_length"
   ]
  },
  {
   "cell_type": "code",
   "execution_count": 53,
   "metadata": {},
   "outputs": [
    {
     "data": {
      "text/plain": [
       "400.0"
      ]
     },
     "execution_count": 53,
     "metadata": {},
     "output_type": "execute_result"
    }
   ],
   "source": [
    "64000/160"
   ]
  }
 ],
 "metadata": {
  "kernelspec": {
   "display_name": "mlp",
   "language": "python",
   "name": "mlp"
  },
  "language_info": {
   "codemirror_mode": {
    "name": "ipython",
    "version": 3
   },
   "file_extension": ".py",
   "mimetype": "text/x-python",
   "name": "python",
   "nbconvert_exporter": "python",
   "pygments_lexer": "ipython3",
   "version": "3.7.6"
  }
 },
 "nbformat": 4,
 "nbformat_minor": 4
}
